{
 "cells": [
  {
   "cell_type": "markdown",
   "id": "ddb04ad8-5dab-46cf-8811-7ba0121717ce",
   "metadata": {},
   "source": [
    "# Password stuff"
   ]
  },
  {
   "cell_type": "code",
   "execution_count": 1,
   "id": "c376c211-08f5-4f8b-80ef-d4f2d4b054c0",
   "metadata": {
    "tags": []
   },
   "outputs": [],
   "source": [
    "from randomly.password import generate_password"
   ]
  },
  {
   "cell_type": "markdown",
   "id": "515def14-3e10-4134-bd57-1a95b082da53",
   "metadata": {},
   "source": [
    "The function accepts arguments to define the requirements for the password to be generated."
   ]
  },
  {
   "cell_type": "code",
   "execution_count": null,
   "id": "8905b63d-59b7-49e3-bce4-3ccedcbd4b2c",
   "metadata": {},
   "outputs": [],
   "source": [
    "generate_password(15, True, ['<','>', '/', '\\', '`', '~'])"
   ]
  },
  {
   "cell_type": "markdown",
   "id": "542bb4d7-4cc7-4bae-a93d-c58c16fa8c57",
   "metadata": {},
   "source": [
    "stuff"
   ]
  }
 ],
 "metadata": {
  "kernelspec": {
   "display_name": "Python 3 (ipykernel)",
   "language": "python",
   "name": "python3"
  },
  "language_info": {
   "codemirror_mode": {
    "name": "ipython",
    "version": 3
   },
   "file_extension": ".py",
   "mimetype": "text/x-python",
   "name": "python",
   "nbconvert_exporter": "python",
   "pygments_lexer": "ipython3",
   "version": "3.9.9"
  }
 },
 "nbformat": 4,
 "nbformat_minor": 5
}
